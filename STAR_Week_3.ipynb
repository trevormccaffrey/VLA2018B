{
 "cells": [
  {
   "cell_type": "markdown",
   "metadata": {},
   "source": [
    "# Trevor McCaffrey\n",
    "## STAR Week 3 \n",
    "### Weekly Report 7/8-7/12\n",
    "------"
   ]
  },
  {
   "cell_type": "code",
   "execution_count": 2,
   "metadata": {},
   "outputs": [],
   "source": [
    "import xlrd\n",
    "file_location = \"/Users/trevormccaffrey/Desktop/RMS_Trend_Graphs.xlsx\"\n",
    "workbook = xlrd.open_workbook(file_location)\n",
    "sheet = workbook.sheet_by_index(0)  #work with first sheet"
   ]
  },
  {
   "cell_type": "code",
   "execution_count": 3,
   "metadata": {},
   "outputs": [],
   "source": [
    "num_antennas = []\n",
    "time_on_source = []\n",
    "nt_product = [] #product of each observations time on source and number of antennas\n",
    "dirty_rms = []\n",
    "clean_rms = []\n",
    "\n",
    "for n in range(1, 17): #17 is number of present-completed images, don't include title\n",
    "    num_antennas.append(sheet.cell_value(n, 1))\n",
    "    time_on_source.append(sheet.cell_value(n, 2))\n",
    "    nt_product.append(sheet.cell_value(n, 3))\n",
    "    dirty_rms.append(sheet.cell_value(n, 4))\n",
    "    clean_rms.append(sheet.cell_value(n, 5))"
   ]
  },
  {
   "cell_type": "code",
   "execution_count": 4,
   "metadata": {},
   "outputs": [
    {
     "data": {
      "image/png": "[encoded data removed]",
      "text/plain": [
       "<Figure size 432x288 with 1 Axes>"
      ]
     },
     "metadata": {
      "needs_background": "light"
     },
     "output_type": "display_data"
    },
    {
     "data": {
      "image/png": "[encoded data removed]",
      "text/plain": [
       "<Figure size 432x288 with 1 Axes>"
      ]
     },
     "metadata": {
      "needs_background": "light"
     },
     "output_type": "display_data"
    }
   ],
   "source": [
    "import matplotlib.pyplot as plt\n",
    "\n",
    "plt.plot(nt_product, dirty_rms, 'bs')\n",
    "plt.xlabel('N*t (# antennas and time product)')\n",
    "plt.ylabel('Dirty RMS (uJy)')\n",
    "plt.title('Dirty RMS vs N*t')\n",
    "plt.show()\n",
    "\n",
    "plt.plot(nt_product, clean_rms, 'rs')\n",
    "plt.xlabel('N*t (# antennas and time product)')\n",
    "plt.ylabel('Clean RMS (uJy)')\n",
    "plt.title('Clean RMS vs N*t')\n",
    "plt.show()"
   ]
  },
  {
   "cell_type": "markdown",
   "metadata": {},
   "source": [
    "I wasn't sure how exactly to weigh each variable when plotting an observation's RMS against its properties, and since I'm still not too sure on how to distinguish what percentage of flagging is due to RFI so I just plotted the target's RMS against the product of that observations time on the source and the number antennas used.  Although the data does not show the strongest correlation, there is at least a downward trend in the RMS and the time/antenna contribution to each observation, which is expected.\n",
    "\n",
    "Relating to the %RFI for the observation - most data sets don't seem to rise above ~12% flagging for \"Total Science\" so I am still unsure on what exactly I am trying to detect here.\n",
    "\n",
    "These graphs also exemplify how inconsistent the clean RMS values have been with our expected RMS of 7.5uJy.  Most values fall below that expected value with only two observations having a clean RMS above 7.5uJy.  The dirty RMS values appear to be the ones that appear to float around the expected value of 7.5. There are, however, a couple of outliers in the dirty RMS data -- this is due to other radio sources being present near the center of the image produced.  In the dirty image, large radio sources have extensive beams outflowing from their center which are removed in the process of cleaning the image -- this affects the measurement of the dirty RMS obtained by the observation.  "
   ]
  },
  {
   "cell_type": "markdown",
   "metadata": {},
   "source": [
    "### New Images:"
   ]
  },
  {
   "cell_type": "markdown",
   "metadata": {},
   "source": [
    "I have uploaded all actual images to the \"VLA2018b\" RichardsGroup repository on GitHub since uploading them here doesn't seem to be working. These are the observations that I have made images for this week:\n",
    "\n",
    "**J0140+1411 - detection**\n",
    "\n",
    "**J1445+5245**\n",
    "\n",
    "**J1406+2923**\n",
    "\n",
    "**J1449+3110**\n",
    "\n",
    "**J1443+3056**\n",
    "\n",
    "**J0013-0024**\n",
    "\n",
    "**J1514+5446**\n",
    "\n",
    "**J1535+5402**\n",
    "\n",
    "**J1546+1914 - distorted, not really a clean/finished image**\n",
    "\n",
    "**J1600+3027**\n",
    "\n",
    "\n",
    "I also used the scaling tool in the CASA viewer on a few images to show some more noise in the images that needed it, so all images in the repository should show a sufficient amount of noise surrounding the radio sources.  There are a few observations that I made images for, but probably still need the compression fix applied to them -- I labeled these ones accordingly. "
   ]
  },
  {
   "cell_type": "markdown",
   "metadata": {},
   "source": [
    "I have also downloaded the calibrations and measurement sets for all of the observations labeled \"COMPLETED\" in the OPT, so I should be able to work through the rest of the data sets without having to retrieve more from 808.\n",
    "\n",
    "I contacted the NRAO help desk yesterday (Thurs 7/11) asking about the compression fix needed for some of our images that wasn't working for me, but haven't heard back from them yet.  Once I do, I am hoping that I will be able to successfully re-run the pipeline on our observations that need it."
   ]
  }
 ],
 "metadata": {
  "kernelspec": {
   "display_name": "Python 3",
   "language": "python",
   "name": "python3"
  },
  "language_info": {
   "codemirror_mode": {
    "name": "ipython",
    "version": 3
   },
   "file_extension": ".py",
   "mimetype": "text/x-python",
   "name": "python",
   "nbconvert_exporter": "python",
   "pygments_lexer": "ipython3",
   "version": "3.6.4"
  }
 },
 "nbformat": 4,
 "nbformat_minor": 2
}
