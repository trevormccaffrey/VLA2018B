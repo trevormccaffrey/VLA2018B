{
 "cells": [
  {
   "cell_type": "code",
   "execution_count": 1,
   "metadata": {},
   "outputs": [],
   "source": [
    "%matplotlib inline\n",
    "import numpy as np\n",
    "import matplotlib as mpl\n",
    "from matplotlib import pyplot as plt\n",
    "from astropy.io import fits\n",
    "import richardsplot\n",
    "import pandas as pd\n",
    "#from densityplot import *"
   ]
  },
  {
   "cell_type": "code",
   "execution_count": 2,
   "metadata": {},
   "outputs": [],
   "source": [
    "def figsize(hscale, \n",
    "            vscale=(np.sqrt(5.0)-1.0)/2.0,\n",
    "            fig_width_pt = 336.0):\n",
    "   \n",
    "\n",
    "    \"\"\"\n",
    "    Get the fig_width_pt by inserting \\the\\textwidth into LaTeX document.\n",
    "\n",
    "    hscale is fraction of text width you want.\n",
    "\n",
    "    vscale is fraction of hscale (defaults to golden ratio)  \n",
    "    \"\"\"\n",
    "   \n",
    "    inches_per_pt = 1.0/72.27                       # Convert pt to inch\n",
    "    fig_width = fig_width_pt*inches_per_pt*hscale   # width in inches\n",
    "    fig_height = fig_width*vscale                   # height in inches\n",
    "    fig_size = [fig_width, fig_height]\n",
    "\n",
    "    return fig_size"
   ]
  },
  {
   "cell_type": "code",
   "execution_count": 3,
   "metadata": {},
   "outputs": [],
   "source": [
    "import palettable\n",
    "\n",
    "pgf_with_latex = {                      # setup matplotlib to use latex for output\n",
    "    \"axes.linewidth\":1.5,               # width of box, 2 is too wide, 1 is too narrow\n",
    "    \"pgf.texsystem\": \"pdflatex\",        # change this if using xetex or lautex\n",
    "    \"text.usetex\": True,                # use LaTeX to write all text\n",
    "    \"font.family\": \"serif\",\n",
    "    \"font.serif\": [],                   # blank entries should cause plots to inherit fonts from the document\n",
    "    \"font.sans-serif\": [],\n",
    "    \"font.monospace\": [],\n",
    "    \"axes.labelsize\": 16,               # LaTeX default is 10pt font, font size of axis text label\n",
    "    \"axes.labelpad\" : 6,                # Distance between label and axis\n",
    "    \"axes.formatter.limits\":[-5, 5],    # use sci notation if log10 of axis range is smaller than first or larger than second \n",
    "    \"axes.formatter.useoffset\":False,\n",
    "    \"font.size\": 16,\n",
    "    \"legend.fontsize\": 12,              # Make the legend/label fonts a little smaller\n",
    "    \"xtick.labelsize\": 16,              # Font size of numbers \n",
    "    \"ytick.labelsize\": 16,\n",
    "    'xtick.major.width':1, \n",
    "    'xtick.minor.width':1, \n",
    "    'ytick.major.width':1, \n",
    "    'ytick.minor.width':1, \n",
    "    'xtick.major.size':10,             # size of tickmarks in points\n",
    "    'xtick.minor.size':5, \n",
    "    'ytick.major.size':10, \n",
    "    'ytick.minor.size':5,\n",
    "    'xtick.major.pad':8,               # distance between box and numbers\n",
    "    'ytick.major.pad':8,\n",
    "    'xtick.direction':'in',\n",
    "    'ytick.direction':'in',\n",
    "    'figure.autolayout': True,\n",
    "    \"figure.figsize\": figsize(1,1),     # default fig size of 0.9 textwidth\n",
    "    \"pgf.preamble\": [\n",
    "        r\"\\usepackage[utf8x]{inputenc}\",    # use utf8 fonts becasue your computer can handle it\n",
    "        r\"\\usepackage[T1]{fontenc}\",        # plots will be generated using this preamble\n",
    "        ]\n",
    "    }\n",
    "\n",
    "mpl.rcParams.update(pgf_with_latex)\n",
    "\n",
    "\n",
    "csdark = palettable.colorbrewer.qualitative.Dark2_5.mpl_colors\n",
    "cspurple = palettable.colorbrewer.sequential.BuPu_4.mpl_colors\n",
    "csorange = palettable.colorbrewer.sequential.YlOrBr_5.mpl_colors\n"
   ]
  },
  {
   "cell_type": "code",
   "execution_count": 4,
   "metadata": {
    "scrolled": true
   },
   "outputs": [
    {
     "ename": "FileNotFoundError",
     "evalue": "File b'bokeh_files/grdr7_180126.weights' does not exist",
     "output_type": "error",
     "traceback": [
      "\u001b[0;31m---------------------------------------------------------------------------\u001b[0m",
      "\u001b[0;31mFileNotFoundError\u001b[0m                         Traceback (most recent call last)",
      "\u001b[0;32m<ipython-input-4-03dbd989030b>\u001b[0m in \u001b[0;36m<module>\u001b[0;34m\u001b[0m\n\u001b[1;32m      2\u001b[0m \u001b[0;31m#Load the ICA weights from Paul's 6-component fitting (now for DR7)\u001b[0m\u001b[0;34m\u001b[0m\u001b[0;34m\u001b[0m\u001b[0m\n\u001b[1;32m      3\u001b[0m \u001b[0minfile\u001b[0m \u001b[0;34m=\u001b[0m \u001b[0;34m'bokeh_files/grdr7_180126.weights'\u001b[0m\u001b[0;34m\u001b[0m\u001b[0m\n\u001b[0;32m----> 4\u001b[0;31m \u001b[0minfoHewett\u001b[0m \u001b[0;34m=\u001b[0m \u001b[0mpd\u001b[0m\u001b[0;34m.\u001b[0m\u001b[0mread_csv\u001b[0m\u001b[0;34m(\u001b[0m\u001b[0minfile\u001b[0m\u001b[0;34m,\u001b[0m \u001b[0msep\u001b[0m \u001b[0;34m=\u001b[0m \u001b[0;34m' '\u001b[0m\u001b[0;34m,\u001b[0m \u001b[0mnames\u001b[0m\u001b[0;34m=\u001b[0m\u001b[0;34m[\u001b[0m\u001b[0;34m\"name\"\u001b[0m\u001b[0;34m,\u001b[0m \u001b[0;34m\"redshift\"\u001b[0m\u001b[0;34m,\u001b[0m \u001b[0;34m\"W1\"\u001b[0m\u001b[0;34m,\u001b[0m \u001b[0;34m\"W2\"\u001b[0m\u001b[0;34m,\u001b[0m \u001b[0;34m\"W3\"\u001b[0m\u001b[0;34m,\u001b[0m \u001b[0;34m\"W4\"\u001b[0m\u001b[0;34m,\u001b[0m \u001b[0;34m\"W5\"\u001b[0m\u001b[0;34m,\u001b[0m \u001b[0;34m\"W6\"\u001b[0m\u001b[0;34m,\u001b[0m \u001b[0;34m\"detection\"\u001b[0m\u001b[0;34m]\u001b[0m\u001b[0;34m)\u001b[0m \u001b[0;31m#added detection for bokeh plot\u001b[0m\u001b[0;34m\u001b[0m\u001b[0m\n\u001b[0m\u001b[1;32m      5\u001b[0m \u001b[0minfile1\u001b[0m \u001b[0;34m=\u001b[0m \u001b[0;34m'bokeh_files/grdr7.radec'\u001b[0m\u001b[0;34m\u001b[0m\u001b[0m\n\u001b[1;32m      6\u001b[0m \u001b[0minfoCoords\u001b[0m \u001b[0;34m=\u001b[0m \u001b[0mpd\u001b[0m\u001b[0;34m.\u001b[0m\u001b[0mread_csv\u001b[0m\u001b[0;34m(\u001b[0m\u001b[0minfile1\u001b[0m\u001b[0;34m,\u001b[0m \u001b[0msep\u001b[0m \u001b[0;34m=\u001b[0m \u001b[0;34m' '\u001b[0m\u001b[0;34m,\u001b[0m \u001b[0mnames\u001b[0m\u001b[0;34m=\u001b[0m\u001b[0;34m[\u001b[0m\u001b[0;34m\"name\"\u001b[0m\u001b[0;34m,\u001b[0m \u001b[0;34m\"RA\"\u001b[0m\u001b[0;34m,\u001b[0m \u001b[0;34m\"Dec\"\u001b[0m\u001b[0;34m]\u001b[0m\u001b[0;34m)\u001b[0m\u001b[0;34m\u001b[0m\u001b[0m\n",
      "\u001b[0;32m~/anaconda3/lib/python3.6/site-packages/pandas/io/parsers.py\u001b[0m in \u001b[0;36mparser_f\u001b[0;34m(filepath_or_buffer, sep, delimiter, header, names, index_col, usecols, squeeze, prefix, mangle_dupe_cols, dtype, engine, converters, true_values, false_values, skipinitialspace, skiprows, nrows, na_values, keep_default_na, na_filter, verbose, skip_blank_lines, parse_dates, infer_datetime_format, keep_date_col, date_parser, dayfirst, iterator, chunksize, compression, thousands, decimal, lineterminator, quotechar, quoting, escapechar, comment, encoding, dialect, tupleize_cols, error_bad_lines, warn_bad_lines, skipfooter, doublequote, delim_whitespace, low_memory, memory_map, float_precision)\u001b[0m\n\u001b[1;32m    676\u001b[0m                     skip_blank_lines=skip_blank_lines)\n\u001b[1;32m    677\u001b[0m \u001b[0;34m\u001b[0m\u001b[0m\n\u001b[0;32m--> 678\u001b[0;31m         \u001b[0;32mreturn\u001b[0m \u001b[0m_read\u001b[0m\u001b[0;34m(\u001b[0m\u001b[0mfilepath_or_buffer\u001b[0m\u001b[0;34m,\u001b[0m \u001b[0mkwds\u001b[0m\u001b[0;34m)\u001b[0m\u001b[0;34m\u001b[0m\u001b[0m\n\u001b[0m\u001b[1;32m    679\u001b[0m \u001b[0;34m\u001b[0m\u001b[0m\n\u001b[1;32m    680\u001b[0m     \u001b[0mparser_f\u001b[0m\u001b[0;34m.\u001b[0m\u001b[0m__name__\u001b[0m \u001b[0;34m=\u001b[0m \u001b[0mname\u001b[0m\u001b[0;34m\u001b[0m\u001b[0m\n",
      "\u001b[0;32m~/anaconda3/lib/python3.6/site-packages/pandas/io/parsers.py\u001b[0m in \u001b[0;36m_read\u001b[0;34m(filepath_or_buffer, kwds)\u001b[0m\n\u001b[1;32m    438\u001b[0m \u001b[0;34m\u001b[0m\u001b[0m\n\u001b[1;32m    439\u001b[0m     \u001b[0;31m# Create the parser.\u001b[0m\u001b[0;34m\u001b[0m\u001b[0;34m\u001b[0m\u001b[0m\n\u001b[0;32m--> 440\u001b[0;31m     \u001b[0mparser\u001b[0m \u001b[0;34m=\u001b[0m \u001b[0mTextFileReader\u001b[0m\u001b[0;34m(\u001b[0m\u001b[0mfilepath_or_buffer\u001b[0m\u001b[0;34m,\u001b[0m \u001b[0;34m**\u001b[0m\u001b[0mkwds\u001b[0m\u001b[0;34m)\u001b[0m\u001b[0;34m\u001b[0m\u001b[0m\n\u001b[0m\u001b[1;32m    441\u001b[0m \u001b[0;34m\u001b[0m\u001b[0m\n\u001b[1;32m    442\u001b[0m     \u001b[0;32mif\u001b[0m \u001b[0mchunksize\u001b[0m \u001b[0;32mor\u001b[0m \u001b[0miterator\u001b[0m\u001b[0;34m:\u001b[0m\u001b[0;34m\u001b[0m\u001b[0m\n",
      "\u001b[0;32m~/anaconda3/lib/python3.6/site-packages/pandas/io/parsers.py\u001b[0m in \u001b[0;36m__init__\u001b[0;34m(self, f, engine, **kwds)\u001b[0m\n\u001b[1;32m    785\u001b[0m             \u001b[0mself\u001b[0m\u001b[0;34m.\u001b[0m\u001b[0moptions\u001b[0m\u001b[0;34m[\u001b[0m\u001b[0;34m'has_index_names'\u001b[0m\u001b[0;34m]\u001b[0m \u001b[0;34m=\u001b[0m \u001b[0mkwds\u001b[0m\u001b[0;34m[\u001b[0m\u001b[0;34m'has_index_names'\u001b[0m\u001b[0;34m]\u001b[0m\u001b[0;34m\u001b[0m\u001b[0m\n\u001b[1;32m    786\u001b[0m \u001b[0;34m\u001b[0m\u001b[0m\n\u001b[0;32m--> 787\u001b[0;31m         \u001b[0mself\u001b[0m\u001b[0;34m.\u001b[0m\u001b[0m_make_engine\u001b[0m\u001b[0;34m(\u001b[0m\u001b[0mself\u001b[0m\u001b[0;34m.\u001b[0m\u001b[0mengine\u001b[0m\u001b[0;34m)\u001b[0m\u001b[0;34m\u001b[0m\u001b[0m\n\u001b[0m\u001b[1;32m    788\u001b[0m \u001b[0;34m\u001b[0m\u001b[0m\n\u001b[1;32m    789\u001b[0m     \u001b[0;32mdef\u001b[0m \u001b[0mclose\u001b[0m\u001b[0;34m(\u001b[0m\u001b[0mself\u001b[0m\u001b[0;34m)\u001b[0m\u001b[0;34m:\u001b[0m\u001b[0;34m\u001b[0m\u001b[0m\n",
      "\u001b[0;32m~/anaconda3/lib/python3.6/site-packages/pandas/io/parsers.py\u001b[0m in \u001b[0;36m_make_engine\u001b[0;34m(self, engine)\u001b[0m\n\u001b[1;32m   1012\u001b[0m     \u001b[0;32mdef\u001b[0m \u001b[0m_make_engine\u001b[0m\u001b[0;34m(\u001b[0m\u001b[0mself\u001b[0m\u001b[0;34m,\u001b[0m \u001b[0mengine\u001b[0m\u001b[0;34m=\u001b[0m\u001b[0;34m'c'\u001b[0m\u001b[0;34m)\u001b[0m\u001b[0;34m:\u001b[0m\u001b[0;34m\u001b[0m\u001b[0m\n\u001b[1;32m   1013\u001b[0m         \u001b[0;32mif\u001b[0m \u001b[0mengine\u001b[0m \u001b[0;34m==\u001b[0m \u001b[0;34m'c'\u001b[0m\u001b[0;34m:\u001b[0m\u001b[0;34m\u001b[0m\u001b[0m\n\u001b[0;32m-> 1014\u001b[0;31m             \u001b[0mself\u001b[0m\u001b[0;34m.\u001b[0m\u001b[0m_engine\u001b[0m \u001b[0;34m=\u001b[0m \u001b[0mCParserWrapper\u001b[0m\u001b[0;34m(\u001b[0m\u001b[0mself\u001b[0m\u001b[0;34m.\u001b[0m\u001b[0mf\u001b[0m\u001b[0;34m,\u001b[0m \u001b[0;34m**\u001b[0m\u001b[0mself\u001b[0m\u001b[0;34m.\u001b[0m\u001b[0moptions\u001b[0m\u001b[0;34m)\u001b[0m\u001b[0;34m\u001b[0m\u001b[0m\n\u001b[0m\u001b[1;32m   1015\u001b[0m         \u001b[0;32melse\u001b[0m\u001b[0;34m:\u001b[0m\u001b[0;34m\u001b[0m\u001b[0m\n\u001b[1;32m   1016\u001b[0m             \u001b[0;32mif\u001b[0m \u001b[0mengine\u001b[0m \u001b[0;34m==\u001b[0m \u001b[0;34m'python'\u001b[0m\u001b[0;34m:\u001b[0m\u001b[0;34m\u001b[0m\u001b[0m\n",
      "\u001b[0;32m~/anaconda3/lib/python3.6/site-packages/pandas/io/parsers.py\u001b[0m in \u001b[0;36m__init__\u001b[0;34m(self, src, **kwds)\u001b[0m\n\u001b[1;32m   1706\u001b[0m         \u001b[0mkwds\u001b[0m\u001b[0;34m[\u001b[0m\u001b[0;34m'usecols'\u001b[0m\u001b[0;34m]\u001b[0m \u001b[0;34m=\u001b[0m \u001b[0mself\u001b[0m\u001b[0;34m.\u001b[0m\u001b[0musecols\u001b[0m\u001b[0;34m\u001b[0m\u001b[0m\n\u001b[1;32m   1707\u001b[0m \u001b[0;34m\u001b[0m\u001b[0m\n\u001b[0;32m-> 1708\u001b[0;31m         \u001b[0mself\u001b[0m\u001b[0;34m.\u001b[0m\u001b[0m_reader\u001b[0m \u001b[0;34m=\u001b[0m \u001b[0mparsers\u001b[0m\u001b[0;34m.\u001b[0m\u001b[0mTextReader\u001b[0m\u001b[0;34m(\u001b[0m\u001b[0msrc\u001b[0m\u001b[0;34m,\u001b[0m \u001b[0;34m**\u001b[0m\u001b[0mkwds\u001b[0m\u001b[0;34m)\u001b[0m\u001b[0;34m\u001b[0m\u001b[0m\n\u001b[0m\u001b[1;32m   1709\u001b[0m \u001b[0;34m\u001b[0m\u001b[0m\n\u001b[1;32m   1710\u001b[0m         \u001b[0mpassed_names\u001b[0m \u001b[0;34m=\u001b[0m \u001b[0mself\u001b[0m\u001b[0;34m.\u001b[0m\u001b[0mnames\u001b[0m \u001b[0;32mis\u001b[0m \u001b[0;32mNone\u001b[0m\u001b[0;34m\u001b[0m\u001b[0m\n",
      "\u001b[0;32mpandas/_libs/parsers.pyx\u001b[0m in \u001b[0;36mpandas._libs.parsers.TextReader.__cinit__\u001b[0;34m()\u001b[0m\n",
      "\u001b[0;32mpandas/_libs/parsers.pyx\u001b[0m in \u001b[0;36mpandas._libs.parsers.TextReader._setup_parser_source\u001b[0;34m()\u001b[0m\n",
      "\u001b[0;31mFileNotFoundError\u001b[0m: File b'bokeh_files/grdr7_180126.weights' does not exist"
     ]
    }
   ],
   "source": [
    "#import pandas as pd\n",
    "#Load the ICA weights from Paul's 6-component fitting (now for DR7)\n",
    "infile = 'bokeh_files/grdr7_180126.weights'\n",
    "infoHewett = pd.read_csv(infile, sep = ' ', names=[\"name\", \"redshift\", \"W1\", \"W2\", \"W3\", \"W4\", \"W5\", \"W6\", \"detection\"]) #added detection for bokeh plot\n",
    "infile1 = 'bokeh_files/grdr7.radec'\n",
    "infoCoords = pd.read_csv(infile1, sep = ' ', names=[\"name\", \"RA\", \"Dec\"])\n",
    "\n",
    "dMask=np.array(infoHewett[\"detection\"])\n",
    "ih = np.array(infoHewett)\n",
    "\n",
    "for i in ih[dMask==1]:\n",
    "    print(i[0])\n",
    "#print infoCoords"
   ]
  },
  {
   "cell_type": "code",
   "execution_count": null,
   "metadata": {},
   "outputs": [],
   "source": [
    "\n",
    "infile3 = 'grdr7_Shen2011_targ_uni.csv'\n",
    "#infile4 = 'gr_info_a_short_coords_Allen2011.csv'\n",
    "\n",
    "infoShen = pd.read_csv(infile3, skiprows=1, names=[\"name\",\"RAx\",\"DECx\",\"SDSSNAME\",\"RA\",\"DEC\",\"redshift\",\"TARG_FLAG\",\"UNI_FLAG\",\"COLOR_FLAG\",\"MIZ2\",\"BALFLAGShen\",\"FIRSTFRTYPE\",\"FINTREST6CM\",\"LOGFNU2500\",\"R6CM2500A\",\"LOGL3000\",\"LOGL1350\",\"Separation\", \"DETECTION\"])\n",
    "#infoAllen = pd.read_csv(infile4, skiprows=1, names=[\"file\",\"name\",\"redshift\",\"BALflag\",\"RAx\",\"DECx\",\"SDSS\",\"RAdeg\",\"DEdeg\",\"z\",\"imag\",\"SN\",\"logF1700\",\"logL1700\",\"C4BI\",\"C4d\",\"C4Vmin\",\"C4VMax\",\"Separation\"])\n",
    "\n",
    "#print infoShen['redshift']"
   ]
  },
  {
   "cell_type": "code",
   "execution_count": null,
   "metadata": {
    "scrolled": false
   },
   "outputs": [],
   "source": [
    "#Mask to pick out color-selected objects (ignores radio selected and NaN [non-DR7 objects])\n",
    "cMask = np.array(infoShen['COLOR_FLAG'])\n",
    "\n",
    "#This mask picks out our detections\n",
    "dMask = np.array(infoShen['DETECTION'])"
   ]
  },
  {
   "cell_type": "code",
   "execution_count": null,
   "metadata": {},
   "outputs": [],
   "source": [
    "#Need to format weights for Scikit-Learn\n",
    "weights = infoHewett[infoHewett.columns[2:]]\n",
    "#print weights\n",
    "X = np.array(weights)\n",
    "print(X)\n",
    "\n",
    "wt_dMask = np.array(infoHewett[\"detection\"])\n",
    "\n",
    "wt_dX = X[wt_dMask==1] #find detection entries\n",
    "wt_dX = wt_dX[:,:6] #reformat weights (eliminate detection column)\n",
    "#print(wt_dX)\n",
    "\n",
    "wt_ndX = X[wt_dMask==-1]\n",
    "wt_ndX = wt_ndX[:,:6]\n",
    "#print(wt_ndX)\n",
    "\n",
    " \n",
    "    \n",
    "# Array of each of the 6 weights\n",
    "W1 = X[:,0]\n",
    "W2 = X[:,1]\n",
    "W3 = X[:,2]\n",
    "W4 = X[:,3]\n",
    "W5 = X[:,4]\n",
    "W6 = X[:,5]\n",
    "\n",
    "W0 = X[:,0]+X[:,1]+X[:,2]+X[:,3]"
   ]
  },
  {
   "cell_type": "code",
   "execution_count": null,
   "metadata": {},
   "outputs": [],
   "source": [
    "plt.figure(figsize=(8,8))\n",
    "plt.hist(infoHewett['redshift'], color='b', bins=50, histtype='step')\n",
    "plt.xlim(1.4,2.5)"
   ]
  },
  {
   "cell_type": "code",
   "execution_count": null,
   "metadata": {},
   "outputs": [],
   "source": [
    "#We are going to want to restrict the redshift range, do it like this.\n",
    "zem = np.array(infoHewett['redshift'])\n",
    "\n",
    "# Number with z<1.75\n",
    "zmask = ((zem<=1.75))\n",
    "print (len(infoHewett[zmask]), len(infoHewett))\n",
    "print (len(X[zmask]))\n",
    "print (zem)"
   ]
  },
  {
   "cell_type": "code",
   "execution_count": null,
   "metadata": {},
   "outputs": [],
   "source": [
    "#Distribution of quasars in ICA weight space\n",
    "plt.figure(figsize=(9,8))\n",
    "\n",
    "plt.scatter(W1, W2, c=W3, cmap=\"nipy_spectral\", edgecolor=\"None\")\n",
    "plt.xlabel('W1')\n",
    "plt.ylabel('W2')\n",
    "plt.xlim(0,0.07)\n",
    "plt.ylim(0,0.06)\n",
    "cbar = plt.colorbar()\n",
    "cbar.ax.set_ylabel('W3')"
   ]
  },
  {
   "cell_type": "raw",
   "metadata": {
    "collapsed": true
   },
   "source": [
    "# Load up saved file\n",
    "# Run cell below to reproduce\n",
    "projTSNE2 = np.load(\"tSNE2_DR7.npy\")\n",
    "#print tSNE2proj[0]"
   ]
  },
  {
   "cell_type": "code",
   "execution_count": null,
   "metadata": {},
   "outputs": [],
   "source": [
    "#GTR: Did this a different way below.\n",
    "#np.savetxt(\"grdr7.tSNE2.csv\", projTSNE2, delimiter=\",\")"
   ]
  },
  {
   "cell_type": "code",
   "execution_count": null,
   "metadata": {},
   "outputs": [],
   "source": [
    "# t-SNE\n",
    "from sklearn.manifold import TSNE\n",
    "tsne2 = TSNE(n_components = 2)\n",
    "projTSNE2 = tsne2.fit_transform(X[:,:6])\n",
    "\n",
    "#dproj = tsne2.fit_transform(wt_dX)\n",
    "#ndproj = tsne2.fit_transform(wt_ndX)"
   ]
  },
  {
   "cell_type": "code",
   "execution_count": null,
   "metadata": {},
   "outputs": [],
   "source": [
    "dproj = projTSNE2[wt_dMask==1] #organize coordinates to match d/nd in bokeh plot\n",
    "ndproj = projTSNE2[wt_dMask==-1]"
   ]
  },
  {
   "cell_type": "raw",
   "metadata": {},
   "source": [
    "np.save(\"tSNE2_DR7.npy\", projTSNE2)"
   ]
  },
  {
   "cell_type": "code",
   "execution_count": null,
   "metadata": {},
   "outputs": [],
   "source": [
    "print(projTSNE2)"
   ]
  },
  {
   "cell_type": "code",
   "execution_count": null,
   "metadata": {},
   "outputs": [],
   "source": [
    "#Output tSNE projections to file\n",
    "#infile1 = 'grdr7.radec'\n",
    "#infoCoords = pd.read_csv(infile1, sep = ' ', names=[\"name\", \"RA\", \"Dec\"])\n",
    "\n",
    "df = pd.DataFrame({'Name':infoCoords['name'],'RA':infoCoords['RA'],'Dec':infoCoords['Dec'], 'Proj1':projTSNE2[:,0], 'Proj2':-1.0*projTSNE2[:,1]})\n",
    "df.to_csv('grdr7.radec.projTSNE.csv')\n"
   ]
  },
  {
   "cell_type": "code",
   "execution_count": null,
   "metadata": {},
   "outputs": [],
   "source": [
    "plt.figure(figsize=(25,5))\n",
    "plt.subplot(1, 4, 1)\n",
    "plt.scatter(projTSNE2[:,0], projTSNE2[:,1], c=W1, cmap=\"nipy_spectral\", edgecolor=\"None\")\n",
    "plt.xlabel(\"Proj1\")\n",
    "plt.ylabel(\"Proj2\")\n",
    "cbar = plt.colorbar()\n",
    "cbar.ax.set_ylabel('W1')\n",
    "plt.subplot(1, 4, 2)\n",
    "plt.scatter(projTSNE2[:,0], projTSNE2[:,1], c=W2, cmap=\"nipy_spectral\", edgecolor=\"None\")\n",
    "plt.xlabel(\"Proj1\")\n",
    "plt.ylabel(\"Proj2\")\n",
    "cbar = plt.colorbar()\n",
    "cbar.ax.set_ylabel('W2')\n",
    "plt.subplot(1, 4, 3)\n",
    "plt.scatter(projTSNE2[:,0], projTSNE2[:,1], c=W3, cmap=\"nipy_spectral\", edgecolor=\"None\")\n",
    "plt.xlabel(\"Proj1\")\n",
    "plt.ylabel(\"Proj2\")\n",
    "cbar = plt.colorbar()\n",
    "cbar.ax.set_ylabel('W3')\n",
    "plt.subplot(1, 4, 4)\n",
    "plt.scatter(projTSNE2[:,0], projTSNE2[:,1], c=W4, cmap=\"nipy_spectral\", edgecolor=\"None\")\n",
    "plt.xlabel(\"Proj1\")\n",
    "plt.ylabel(\"Proj2\")\n",
    "cbar = plt.colorbar()\n",
    "cbar.ax.set_ylabel('W4')\n",
    "plt.tight_layout()"
   ]
  },
  {
   "cell_type": "code",
   "execution_count": null,
   "metadata": {},
   "outputs": [],
   "source": [
    "plt.figure(figsize=(9,8))\n",
    "plt.scatter(projTSNE2[:,0], projTSNE2[:,1], c=W1, cmap=\"nipy_spectral\", edgecolor=\"None\")\n",
    "plt.xlabel(\"Proj1\")\n",
    "plt.ylabel(\"Proj2\")\n",
    "cbar = plt.colorbar()\n",
    "cbar.ax.set_ylabel('W1')\n",
    "plt.xlim(-90,90)\n",
    "plt.ylim(-90,90)\n",
    "\n",
    "\n",
    "# Find radius of circle containing 20% of the sources and plot\n",
    "x0 = 0 #take center of circle to be 0,0\n",
    "y0 = 0\n",
    "x  = projTSNE2[:,0]\n",
    "y  = projTSNE2[:,1]\n",
    "# Find radial coordinate of each point\n",
    "r  = np.sqrt((x - x0)**2 + (y - y0)**2)\n",
    "t  = 20 # percent\n",
    "# Find radius that corresponds to t percentile\n",
    "r0 = np.percentile(r, t)\n",
    "\n",
    "mask0 = (r <= r0)\n",
    "maskI = ((r>r0)&(x>0)&(y>0))\n",
    "maskII = ((r>r0)&(x<=0)&(y>0))\n",
    "maskIII = ((r>r0)&(x<=0)&(y<=0))\n",
    "maskIV = ((r>r0)&(x>0)&(y<=0))\n",
    "\n",
    "# Count the number of objects\n",
    "#n_0 = (r <= r0).sum()\n",
    "n_0 = mask0.sum()\n",
    "print (r0, n_0)\n",
    "\n",
    "circle=plt.Circle((0, 0), r0, color='k', fill=False)\n",
    "fig = plt.gcf()\n",
    "fig.gca().add_artist(circle)\n",
    "\n",
    "plt.plot([0,0], [r0,100], c='k')\n",
    "plt.plot([0,0], [-r0,-100], c='k')\n",
    "plt.plot([r0,100], [0,0], c='k')\n",
    "plt.plot([-r0,-100], [0,0], c='k')\n",
    "\n",
    "n_I = maskI.sum()\n",
    "n_II = maskII.sum()\n",
    "n_III = maskIII.sum()\n",
    "n_IV = maskIV.sum()\n",
    "print (n_0,n_I, n_II, n_III, n_IV)"
   ]
  },
  {
   "cell_type": "code",
   "execution_count": null,
   "metadata": {},
   "outputs": [],
   "source": [
    "#Read in radio data\n",
    "R = np.array(infoShen['R6CM2500A']).astype(float)\n",
    "FIRST = np.array(infoShen['FINTREST6CM']).astype(float)"
   ]
  },
  {
   "cell_type": "code",
   "execution_count": null,
   "metadata": {},
   "outputs": [],
   "source": [
    "#Radio-loud mask\n",
    "RLmask = (R>10)"
   ]
  },
  {
   "cell_type": "code",
   "execution_count": null,
   "metadata": {},
   "outputs": [],
   "source": [
    "projTSNE2rad = projTSNE2[RLmask]\n",
    "print (len(projTSNE2), len(projTSNE2rad))"
   ]
  },
  {
   "cell_type": "code",
   "execution_count": null,
   "metadata": {},
   "outputs": [],
   "source": [
    "plt.figure(figsize=(9,8))\n",
    "\n",
    "plt.scatter(projTSNE2[:,0], projTSNE2[:,1], c=W1, cmap=\"nipy_spectral\", edgecolor=\"None\", s=20)\n",
    "plt.xlabel(\"Proj1\")\n",
    "plt.ylabel(\"Proj2\")\n",
    "cbar = plt.colorbar()\n",
    "cbar.ax.set_ylabel('W1')\n",
    "plt.scatter(projTSNE2rad[:,0], projTSNE2rad[:,1], c='w', edgecolor='k', s=40)\n",
    "plt.xlabel(\"Proj1\")\n",
    "plt.xlim(-90,90)\n",
    "plt.ylim(-90,90)\n",
    "\n",
    "circle=plt.Circle((0, 0), r0, color='k', fill=False)\n",
    "fig = plt.gcf()\n",
    "fig.gca().add_artist(circle)\n",
    "\n",
    "plt.plot([0,0], [r0,100], c='k')\n",
    "plt.plot([0,0], [-r0,-100], c='k')\n",
    "plt.plot([r0,100], [0,0], c='k')\n",
    "plt.plot([-r0,-100], [0,0], c='k')"
   ]
  },
  {
   "cell_type": "markdown",
   "metadata": {},
   "source": [
    "Compute the RL fractions"
   ]
  },
  {
   "cell_type": "code",
   "execution_count": null,
   "metadata": {},
   "outputs": [],
   "source": [
    "# Find radius of circle containing 20% of the sources and plot\n",
    "x0 = 0 #take center of circle to be 0,0\n",
    "y0 = 0\n",
    "xRL  = projTSNE2rad[:,0]\n",
    "yRL  = projTSNE2rad[:,1]\n",
    "# Find radial coordinate of each point\n",
    "rRL  = np.sqrt((xRL - x0)**2 + (yRL - y0)**2)\n",
    "#t  = 20 # percent\n",
    "# Find radius that corresponds to t percentile\n",
    "#r0 = np.percentile(r, t)\n",
    "\n",
    "mask0RL = (rRL <= r0)\n",
    "maskIRL = ((rRL>r0)&(xRL>0)&(yRL>0))\n",
    "maskIIRL = ((rRL>r0)&(xRL<=0)&(yRL>0))\n",
    "maskIIIRL = ((rRL>r0)&(xRL<=0)&(yRL<=0))\n",
    "maskIVRL = ((rRL>r0)&(xRL>0)&(yRL<=0))\n",
    "\n",
    "# Count the number of objects\n",
    "#n_0 = (r <= r0).sum()\n",
    "n_0RL = mask0RL.sum()\n",
    "\n",
    "n_IRL = maskIRL.sum()\n",
    "n_IIRL = maskIIRL.sum()\n",
    "n_IIIRL = maskIIIRL.sum()\n",
    "n_IVRL = maskIVRL.sum()\n",
    "print (n_0RL,n_IRL, n_IIRL, n_IIIRL, n_IVRL)\n",
    " \n",
    "    \n",
    "coreRLF = 100.0*n_0RL/n_0\n",
    "quadIRLF = 100.0*n_IRL/n_I\n",
    "quadIIRLF = 100.0*n_IIRL/n_II\n",
    "quadIIIRLF = 100.0*n_IIIRL/n_III\n",
    "quadIVRLF = 100.0*n_IVRL/n_IV\n",
    "print (\"Core RLF = %.2f percent\" % coreRLF)\n",
    "print (\"Quad I RLF = %.2f percent\" % quadIRLF)\n",
    "print (\"Quad II RLF = %.2f percent\" % quadIIRLF)\n",
    "print (\"Quad III RLF = %.2f percent\" % quadIIIRLF)\n",
    "print (\"Quad IV RLF = %.2f percent\" % quadIVRLF)"
   ]
  },
  {
   "cell_type": "markdown",
   "metadata": {},
   "source": [
    "Same plot as above, but now with color-selection targeting mask, and limited to $1.55<z<1.65$ (large black circles)."
   ]
  },
  {
   "cell_type": "code",
   "execution_count": null,
   "metadata": {
    "scrolled": true
   },
   "outputs": [],
   "source": [
    "#We are going to want to restrict the redshift range, do it like this.\n",
    "zem = np.array(infoHewett['redshift'])\n",
    "\n",
    "# Number with 1.55<z.1.75\n",
    "#zmask = ((zem>1.65)&(zem<=1.658))\n",
    "zmask = ((zem>1.645)&(zem<=1.6519))\n",
    "print (len(infoHewett[zmask]), len(infoHewett))\n",
    "print (len(X[zmask]))\n",
    "\n",
    "#print (infoHewett[zmask])"
   ]
  },
  {
   "cell_type": "markdown",
   "metadata": {},
   "source": [
    "Two of these 50 are FIRST sources, 4 are BALs."
   ]
  },
  {
   "cell_type": "markdown",
   "metadata": {},
   "source": [
    "2353 and 1019"
   ]
  },
  {
   "cell_type": "code",
   "execution_count": null,
   "metadata": {
    "scrolled": false
   },
   "outputs": [],
   "source": [
    "plot = plt.figure(figsize=(10,8))\n",
    "\n",
    "projTSNE2col = projTSNE2[cMask>0]\n",
    "projTSNE2radcol = projTSNE2[(cMask>0)&(RLmask)]\n",
    "projTSNE2colz = projTSNE2[(cMask>0)&(zmask)]\n",
    "print (len(projTSNE2colz))\n",
    "\n",
    "#Arbitrarily flip the signs of the y-axis projection so that the quadrants align with the CIV plot\n",
    "#plt.scatter(projTSNE2col[:,0], -1.0*projTSNE2col[:,1], c=W1[cMask>0], cmap=\"nipy_spectral\", edgecolor=\"None\", s=20)\n",
    "plt.scatter(projTSNE2col[:,0], -1.0*projTSNE2col[:,1], c=W1[cMask>0], cmap=\"PRGn\", edgecolor=\"None\", s=20)\n",
    "#plt.scatter(projTSNE2col[:,0], -1.0*projTSNE2col[:,1], c=W1[cMask>0], cmap=\"RdYlBu\", edgecolor=\"None\", s=20)\n",
    "plt.xlabel(\"Proj1\")\n",
    "plt.ylabel(\"Proj2\")\n",
    "cbar = plt.colorbar()\n",
    "cbar.ax.set_ylabel('W1')\n",
    "plt.scatter(projTSNE2radcol[:,0], -1.0*projTSNE2radcol[:,1], c='w', edgecolor='k', s=60, label=\"FIRST\")\n",
    "plt.scatter(projTSNE2colz[:,0], -1.0*projTSNE2colz[:,1], c='k', edgecolor='w', s=500, marker='*', label=\"Targets\")\n",
    "plt.xlabel(\"Proj1\")\n",
    "plt.xlim(-90,90)\n",
    "plt.ylim(-90,90)\n",
    "plt.legend(loc=\"upper left\")\n",
    "\n",
    "circle=plt.Circle((0, 0), r0, color='k', fill=False, linewidth=2)\n",
    "fig = plt.gcf()\n",
    "fig.gca().add_artist(circle)\n",
    "\n",
    "plt.plot([0,0], [r0,100], c='k', linewidth=2)\n",
    "plt.plot([0,0], [-r0,-100], c='k', linewidth=2)\n",
    "plt.plot([r0,100], [0,0], c='k', linewidth=2)\n",
    "plt.plot([-r0,-100], [0,0], c='k', linewidth=2)\n",
    "plt.savefig('newPGtargets.pdf')"
   ]
  },
  {
   "cell_type": "code",
   "execution_count": null,
   "metadata": {},
   "outputs": [],
   "source": [
    "def make_sameName(i): #remove necessary characters to match image formatting (only to arcsec, remove SDSS)\n",
    "    \n",
    "    i = list(i)\n",
    "    i.pop(0)\n",
    "    i.pop(0)\n",
    "    i.pop(0)\n",
    "    i.pop(0)\n",
    "    i.pop(5)\n",
    "    i.pop(5)\n",
    "    i.pop(5)\n",
    "    i.pop(5)\n",
    "    i.pop(5)\n",
    "    i.pop(10)\n",
    "    i.pop(10)\n",
    "    i.pop(10)\n",
    "    i.pop(10)\n",
    "\n",
    "    i = ''.join(i)\n",
    "\n",
    "    return i\n"
   ]
  },
  {
   "cell_type": "markdown",
   "metadata": {},
   "source": [
    "Create Interactive Bokeh Plot of Data Above:\n",
    "\n",
    "J1019+4948 is labelled as a target in this but was not observed (not in OPT)"
   ]
  },
  {
   "cell_type": "code",
   "execution_count": null,
   "metadata": {},
   "outputs": [],
   "source": [
    "import bokeh.palettes as pal\n",
    "from bokeh.plotting import figure, ColumnDataSource, output_file, show, output_notebook\n",
    "from bokeh.models import HoverTool\n",
    "\n",
    "output_file('interactive_VLA2018b.html')\n",
    "\n",
    "\n",
    "dhover = HoverTool(names = [\"Detections\"], tooltips='''\n",
    "    <div>\n",
    "        <div>\n",
    "            <img\n",
    "                src=\"@imgs_4p5am_detection\" height=\"250\" alt=\"@imgs_4p5am_detection\" width=\"250\"\n",
    "                style=\"float: left; margin: 0px 15px 15px 0px;\"\n",
    "                border=\"2\"\n",
    "            ></img>\n",
    "            \n",
    "            <img       \n",
    "                src=\"@imgs_90as_detection\" height=\"250\" alt=\"@imgs_90as_detection\" width=\"250\"\n",
    "                style=\"float: left; margin: 0px 15px 15px 0px;\"\n",
    "                border=\"2\"\n",
    "            ></img>\n",
    "        </div> \n",
    "          \n",
    "        <div>\n",
    "            <span style=\"font-size: 17px; font-weight: bold;\">@obs_detection</span>\n",
    "            <span style=\"font-size: 15px; color: #966;\">[$index]</span>\n",
    "        </div>\n",
    "        <div>\n",
    "            <span style=\"font-size: 15px;\">Location</span>\n",
    "            <span style=\"font-size: 10px; color: #696;\">($x, $y)</span>\n",
    "        </div>\n",
    "    </div>\n",
    "\n",
    "\n",
    "                      ''')\n",
    "\n",
    "ndhover = HoverTool(names = [\"NonDetections\"], tooltips='''\n",
    "    <div>\n",
    "        <div>\n",
    "            <img\n",
    "                src=\"@imgs_4p5am_nondetection\" height=\"250\" alt=\"@imgs_4p5am_nondetection\" width=\"250\"\n",
    "                style=\"float: left; margin: 0px 15px 15px 0px;\"\n",
    "                border=\"2\"\n",
    "            ></img>\n",
    "            \n",
    "            <img       \n",
    "                src=\"@imgs_90as_nondetection\" height=\"250\" alt=\"@imgs_90as_nondetection\" width=\"250\"\n",
    "                style=\"float: left; margin: 0px 15px 15px 0px;\"\n",
    "                border=\"2\"\n",
    "            ></img>\n",
    "        </div> \n",
    "          \n",
    "        <div>\n",
    "            <span style=\"font-size: 17px; font-weight: bold;\">@obs_nondetection</span>\n",
    "            <span style=\"font-size: 15px; color: #966;\">[$index]</span>\n",
    "        </div>\n",
    "        <div>\n",
    "            <span style=\"font-size: 15px;\">Location</span>\n",
    "            <span style=\"font-size: 10px; color: #696;\">($x, $y)</span>\n",
    "        </div>\n",
    "    </div>\n",
    "\n",
    "\n",
    "                      ''')\n",
    "\n",
    "detection_data = np.array(infoHewett[dMask==1])  #make array for all data of detections\n",
    "\n",
    "detection_names = [] #make new list to iterate through all obs names\n",
    "for i in detection_data:\n",
    "    detection_names.append(i[0])\n",
    "detection_same_names = [make_sameName(x) for x in detection_names] #create list with new names titled JXXXX+XXXX\n",
    "\n",
    "detection_source = ColumnDataSource(data=dict(  #create source for detections\n",
    "    \n",
    "    x = dproj[:,0], \n",
    "    y = -1.0*dproj[:,1], #flip y-axis\n",
    "    obs_detection = detection_same_names,\n",
    "    imgs_4p5am_detection = [('bokeh_files/4p5am/Detections/' + name + '_4p5am.png') for name in detection_same_names], \n",
    "    imgs_90as_detection = [('bokeh_files/90as/Detections/' + name + '_90as.png') for name in detection_same_names]\n",
    "    \n",
    "))\n",
    "\n",
    "\n",
    "#Now make another source for the non-detections\n",
    "nondetection_data = np.array(infoHewett[dMask==-1])  \n",
    "\n",
    "nondetection_names = [] #make new list to iterate through all obs names\n",
    "for i in nondetection_data:\n",
    "    nondetection_names.append(i[0])\n",
    "nondetection_same_names = [make_sameName(x) for x in nondetection_names] #create list with new names titled JXXXX+XXXX\n",
    "\n",
    "nondetection_source = ColumnDataSource(data=dict(  #create source for detections\n",
    "    \n",
    "    x = ndproj[:,0], \n",
    "    y = -1.0*ndproj[:,1], #flip y-axis\n",
    "    obs_nondetection = nondetection_same_names,\n",
    "    imgs_4p5am_nondetection = [('bokeh_files/4p5am/NonDetections/' + name + '_4p5am.png') for name in nondetection_same_names], \n",
    "    imgs_90as_nondetection = [('bokeh_files/90as/NonDetections/' + name + '_90as.png') for name in nondetection_same_names]\n",
    "    \n",
    "))\n",
    "\n",
    "\n",
    "\n",
    "###\n",
    "\n",
    "cmap = pal.brewer['PRGn'][11] \n",
    "sf = 11/.075 #scale position in color map to fit an index\n",
    "\n",
    "p = figure(plot_width=800, plot_height=800, title=\"\",\n",
    "           x_range=[-100, 100], y_range = [-100, 100], tools=[dhover, ndhover, 'pan,box_zoom,wheel_zoom,save,reset,help'])\n",
    "\n",
    "p.legend.location = 'top_right'\n",
    "\n",
    "W1_cMask = W1[cMask>0]\n",
    "for i in range(len(W1_cMask)): #loop through each weight and determine color based on weight\n",
    "    p.circle(projTSNE2col[i,0], -1.0*projTSNE2col[i,1], color=cmap[10-int(W1_cMask[i]*sf)], name = \"Background\") #plot background sources (cmap inverted to match original)\n",
    "\n",
    "p.circle(projTSNE2radcol[:,0], -1.0*projTSNE2radcol[:,1], line_color = 'black', fill_color = 'white', \n",
    "         size = 10, legend = 'FIRST') #FIRST sources\n",
    "\n",
    "#FIRST and background are OK -- fix projections for targets\n",
    "\n",
    "p.diamond_cross(x='x', y='y', color = 'red', size = 15, \n",
    "                source=detection_source, name = \"Detections\", legend = 'Detections') #Detections\n",
    "\n",
    "p.diamond_cross(x='x', y='y', color = 'black', size = 15, \n",
    "                source=nondetection_source, name = \"NonDetections\", legend = 'Non-Detections') #NonDetections\n",
    "\n",
    "\n",
    "show(p)"
   ]
  },
  {
   "cell_type": "code",
   "execution_count": null,
   "metadata": {},
   "outputs": [],
   "source": [
    "print(projTSNE2colz)"
   ]
  },
  {
   "cell_type": "code",
   "execution_count": null,
   "metadata": {},
   "outputs": [],
   "source": [
    "projTSNE2colz0 = projTSNE2[(cMask>0)&(zmask)&mask0]\n",
    "projTSNE2colzI = projTSNE2[(cMask>0)&(zmask)&maskI]\n",
    "projTSNE2colzII = projTSNE2[(cMask>0)&(zmask)&maskII]\n",
    "projTSNE2colzIII = projTSNE2[(cMask>0)&(zmask)&maskIII]\n",
    "projTSNE2colzIV = projTSNE2[(cMask>0)&(zmask)&maskIV]\n",
    "\n",
    "print (len(projTSNE2colz0), len(projTSNE2colzI), len(projTSNE2colzII), len(projTSNE2colzIII), len(projTSNE2colzIV))\n"
   ]
  },
  {
   "cell_type": "markdown",
   "metadata": {},
   "source": [
    "Write out arrays with these objects"
   ]
  },
  {
   "cell_type": "code",
   "execution_count": null,
   "metadata": {},
   "outputs": [],
   "source": [
    "names=[\"index\",\"name\", \"redshift\", \"W1\", \"W2\", \"W3\", \"W4\", \"W5\", \"W6\"]\n",
    "dftest = pd.DataFrame(infoHewett, columns=names)\n",
    "dftest.to_csv(\"test.csv\")"
   ]
  }
 ],
 "metadata": {
  "kernelspec": {
   "display_name": "Python 3",
   "language": "python",
   "name": "python3"
  },
  "language_info": {
   "codemirror_mode": {
    "name": "ipython",
    "version": 3
   },
   "file_extension": ".py",
   "mimetype": "text/x-python",
   "name": "python",
   "nbconvert_exporter": "python",
   "pygments_lexer": "ipython3",
   "version": "3.6.4"
  }
 },
 "nbformat": 4,
 "nbformat_minor": 1
}
