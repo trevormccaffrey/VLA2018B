{
 "cells": [
  {
   "cell_type": "markdown",
   "metadata": {},
   "source": [
    "# Trevor McCaffrey\n",
    "## STAR 2019 Week 2\n",
    "\n",
    "-------"
   ]
  },
  {
   "cell_type": "markdown",
   "metadata": {},
   "source": [
    "To begin the week, I revisited the images I created last week to try to create a set of images showing more noise.  This also allowed me to obtain more rms values of each science target observation closer to our expected value of 7.5uJy.  Although none of the images possessed a value right around 7.5uJy, there are no longer any images with an rms value of ~2uJy -- this was likely a result of overcleaning into the noise of the image, as Amy had mentioned.  These are the updated rms values:\n",
    "\n"
   ]
  },
  {
   "cell_type": "markdown",
   "metadata": {},
   "source": [
    "**J1046-0915:**  2uJy --> 3.4uJy\n",
    "\n",
    "**J0157-0938:**  9.9uJy --> 9.5uJy\n",
    "\n",
    "**J1048+0032:**  3.5uJy --> 5.8uJy\n",
    "\n",
    "**J1509+0759:**  3.5uJy --> 5.95uJy\n",
    "\n",
    "**J2131+0147:**  2uJy --> 4.2uJy\n",
    "\n",
    "**J2158+0027:**  4.4uJy --> 4.6uJy\n",
    "\n",
    "**J2346-0029:**  1.8uJy -->  2.1uJy  (this is one that needs the compression fix)\n",
    "\n",
    "\n",
    "I also started to make a table consisting of values for each object's rms, number of antennas used during each observation, and time spent observing each source if we want to observe any type of trend between an object's rms and the constraints the observation was under.  I know that you mentioned %RFI as a parameter to consider as well, but I wasn't sure how to distinguish flagging due to RFI from flagging due to everything else."
   ]
  },
  {
   "cell_type": "markdown",
   "metadata": {},
   "source": [
    "-------\n",
    "Amy also gave us the line of code to add to our casa_pipescript.py which would allow us to re-run the pipeline and would act as a compression fix on our data.  I was having trouble getting this to get past the first stage at first, but managed to get past that by just changing the vis parameter to the .ms directory I was working with as opposed to just the name of the data set with no .ms (which it was set as originally) However, there seems to be a problem with the line of code that I am trying to insert into the pipescript file.  \n",
    "\n",
    "The line of code given from Josh Marvil was hifv_syspower(usemedian=False, antexclude='') to be inserted after the priorcals stage\n",
    "\n",
    "The first issue was the keyword arguments being used -- casa did not recognize either of them.  Josh *did* say that he thought that those arguments might not need to be there, so I tried running the pipescript without the arguments, and although the pipeline got slightly further, it gave me an error in the middle of the added hifv_syspower stage: \n",
    "\n",
    "\n",
    "**rq_table = self.inputs.context.results[4].read()[0].rq_result.final[0].gaintable**\n",
    "\n",
    "**Index Error: list index out of range**\n",
    "\n",
    "I am going to look into what may be causing this, but I honestly do not really have any idea what the problem is -- Amy, do you know what this could possibly be?\n",
    "\n",
    "-------"
   ]
  },
  {
   "cell_type": "markdown",
   "metadata": {},
   "source": [
    "## Images for the week\n",
    "### J1135-0226:\n",
    "\n",
    "![](SDSSJ1135-0226.png)\n",
    "\n",
    "Threshold = 18uJy\n",
    "\n",
    "rms = 5uJy"
   ]
  },
  {
   "cell_type": "markdown",
   "metadata": {},
   "source": [
    "## J1058+0152:\n",
    "\n",
    "![](SDSS1058+0152-DirtyAndDistorted.png)\n",
    "\n",
    "\n",
    "## J1135+0014:\n",
    "\n",
    "![](Images/SDSS1135+0014-DirtyAndDistorted.png)\n",
    "\n",
    "\n",
    "Each of the two images above are dirty and were produced without any deconvolution.  There is clearly another radio source outside the field of view of the image for each of the two images above which is distorting each image. I've tried blowing up the images as much as I could as well as zooming in on the target to see if that would reduce the amount of distortion that each of the images was facing, but neither strategy did much of anything.  I'm not sure how to deal with something like this.\n"
   ]
  },
  {
   "cell_type": "markdown",
   "metadata": {},
   "source": [
    "-----\n",
    "\n",
    "I was a bit disappointed to only produce one seemingly useful image this week, but I spent most of my time recovering results from last week and trying to re-run the pipeline on a few different observations.\n",
    "\n",
    "I was able to download data for 8 new observations from the online archive onto the Mac in Disque 808, and I plan to begin looking at those this weekend and hopefully finishing up with a good chunk of that data next week."
   ]
  }
 ],
 "metadata": {
  "kernelspec": {
   "display_name": "Python 3",
   "language": "python",
   "name": "python3"
  },
  "language_info": {
   "codemirror_mode": {
    "name": "ipython",
    "version": 3
   },
   "file_extension": ".py",
   "mimetype": "text/x-python",
   "name": "python",
   "nbconvert_exporter": "python",
   "pygments_lexer": "ipython3",
   "version": "3.6.4"
  }
 },
 "nbformat": 4,
 "nbformat_minor": 2
}
