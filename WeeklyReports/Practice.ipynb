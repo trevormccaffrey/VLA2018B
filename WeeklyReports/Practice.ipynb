{
 "cells": [
  {
   "cell_type": "markdown",
   "metadata": {},
   "source": [
    "<img width=\"389\" alt=\"SDSS0929+2705_full_dirty\" src=\"https://user-images.githubusercontent.com/52674451/61484701-73275e00-a96d-11e9-8b48-b69b32d1108c.png\">\n",
    "\n",
    "<img width=\"389\" alt=\"SDSSJ0929+2705\" src=\"https://user-images.githubusercontent.com/52674451/61484712-76224e80-a96d-11e9-8838-17817c4cb72f.png\">\n",
    "\n",
    "<img width=\"389\" alt=\"SDSSJ0929+2705_withScale\" src=\"https://user-images.githubusercontent.com/52674451/61484715-7a4e6c00-a96d-11e9-8e44-b7b1f3a5b6ea.png\">\n",
    "\n",
    "\n",
    "\n",
    "09 29 59.42, +27 05 41.7\n",
    "\n",
    "flagdata(vis = '18B-229.sb35970696.eb35982935.58459.30515752315.ms', spw = '16~23', antenna = '8')\n",
    "\n",
    "flagdata(vis = '18B-229.sb35970696.eb35982935.58459.30515752315.ms', spw = '30', antenna = '12')\n",
    "\n",
    "flagdata(vis = '18B-229.sb35970696.eb35982935.58459.30515752315.ms', spw = '31', antenna = '7')\n",
    "\n",
    "statwt(vis = '18B-229.sb35970696.eb35982935.58459.30515752315.ms', spw = '16~23, 30, 31')\n",
    "\n",
    "\n",
    "split(vis = '18B-229.sb35970696.eb35982935.58459.30515752315.ms', outputvis = 'SDSSJ0929+2705_split.ms', field = '2')\n",
    "\n",
    "Dirty:\n",
    "tclean(vis = 'SDSSJ0929+2705_split.ms', imagename = 'SDSSJ0929+2705_split.ms.sz640.dirty', imsize = [640])\n",
    "\n",
    "Dirty RMS = 7.5uJy\n",
    "\n",
    "-low rms everywhere\n",
    "\n",
    "Clean:\n",
    "tclean(vis = 'SDSSJ0929+2705_split.ms', imagename = 'SDSSJ0929+2705_split.ms.sz640.thresh15uJy', imsize = [640], threshold = '0.15mJy', niter = 10000)\n",
    "\n",
    "Clean RMS = 6.3uJy\n",
    "\n",
    "Peak Flux = 11.2uJy/beam\n",
    "Int Flux = 17.6uJy"
   ]
  },
  {
   "cell_type": "code",
   "execution_count": null,
   "metadata": {},
   "outputs": [],
   "source": []
  }
 ],
 "metadata": {
  "kernelspec": {
   "display_name": "Python 3",
   "language": "python",
   "name": "python3"
  },
  "language_info": {
   "codemirror_mode": {
    "name": "ipython",
    "version": 3
   },
   "file_extension": ".py",
   "mimetype": "text/x-python",
   "name": "python",
   "nbconvert_exporter": "python",
   "pygments_lexer": "ipython3",
   "version": "3.6.4"
  }
 },
 "nbformat": 4,
 "nbformat_minor": 2
}
