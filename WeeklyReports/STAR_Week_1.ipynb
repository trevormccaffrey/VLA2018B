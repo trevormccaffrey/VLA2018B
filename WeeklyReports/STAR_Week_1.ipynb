{
 "cells": [
  {
   "cell_type": "markdown",
   "metadata": {},
   "source": [
    "## Trevor McCaffrey\n",
    "### STAR Week 1"
   ]
  },
  {
   "cell_type": "markdown",
   "metadata": {},
   "source": [
    "This week I began working more extensively on creating radio images for different sky observations.  As of 12:00 Friday, a total of seven images have been successfully created, none of which reveal a newfound radio source from the optical source.  I also began to use sundog.stsci.edu and SkyView to aid my image analysis."
   ]
  },
  {
   "cell_type": "markdown",
   "metadata": {},
   "source": [
    "------"
   ]
  },
  {
   "cell_type": "markdown",
   "metadata": {},
   "source": [
    "## J0146-0915"
   ]
  },
  {
   "cell_type": "markdown",
   "metadata": {},
   "source": [
    "![](../Images/SDSSJ0146-0915.png)"
   ]
  },
  {
   "cell_type": "markdown",
   "metadata": {},
   "source": [
    "flagdata(vis = '18B-229.sb35831880.eb35863825.58439.272124814815.ms', spw = '>28')\n",
    "\n",
    "statwt(vis = '18B-229.sb35831880.eb35863825.58439.272124814815.ms', spw = '>28')\n",
    "\n",
    "tclean(vis = 'SDSSJ0146-0915_split.ms', imagename = 'SDSSJ0146-0915_split.ms.sz640.thresh', imsize = [640], niter = 10000, threshold = '0.105mJy')\n",
    "\n",
    "rms = 3.4uJy\n",
    "\n",
    "Dirty Rms = 4.9uJy"
   ]
  },
  {
   "cell_type": "markdown",
   "metadata": {},
   "source": [
    "## J0157-0938"
   ]
  },
  {
   "cell_type": "markdown",
   "metadata": {},
   "source": [
    "![](../Images/SDSS0157-0938.png)"
   ]
  },
  {
   "cell_type": "markdown",
   "metadata": {},
   "source": [
    "The pipeline compression fix still needs to be run on this\n",
    "\n",
    "split(vis = '18B-229.sb35831996.eb36035238.58469.08289278935.ms', outputvis = 'SDSSJ0157-0938_split.ms', field = '2')\n",
    "\n",
    "tclean(vis = 'SDSSJ0157-0938_split.ms', imagename = 'SDSSJ0157-0938_split.ms.imsize720.threshp45.niter10K', imsize = [720], threshold = '0.45mJy', niter = 5000)\n",
    "\n",
    "Clean Rms = 9.5uJy\n",
    "\n",
    "Dirty rms ~ 30uJy -- there is a beam from the source in the upper middle of the image running through the center of the dirty image affecting this measurement"
   ]
  },
  {
   "cell_type": "markdown",
   "metadata": {},
   "source": [
    "## J1048+0032"
   ]
  },
  {
   "cell_type": "markdown",
   "metadata": {},
   "source": [
    "![](../Images/SDSS1048+0032.png)"
   ]
  },
  {
   "cell_type": "markdown",
   "metadata": {},
   "source": [
    "flagdata(vis = 'SDSSJ1048+0032_split.ms', spw = '>28') #flag 3.7-4.0GHz\n",
    "\n",
    "flagdata(vis = 'SDSSJ1048+0032_split.ms', spw = '17~20') #flag 2.1-2.5GHz\n",
    "\n",
    "statwt(vis = 'SDSSJ1048+0032_split.ms', spw = '>28')\n",
    "\n",
    "statwt(vis = 'SDSSJ1048+0032_split.ms', spw = '17~20')\n",
    "\n",
    "tclean(vis = 'SDSSJ1048+0032_split.ms', imagename = 'SDSSJ1048+0032_split.ms.sz640.thresh15uJy', imsize = [640], threshold = '0.15mJy', niter = 10000)\n",
    "\n",
    "rms = 5.8\n",
    "\n",
    "Dirty Rms = 12 (likely higher due to other radio source in vicinity of the target)"
   ]
  },
  {
   "cell_type": "markdown",
   "metadata": {},
   "source": [
    "## J1509+0759"
   ]
  },
  {
   "cell_type": "markdown",
   "metadata": {},
   "source": [
    "![](../Images/SDSSJ1509+0759.png)"
   ]
  },
  {
   "cell_type": "markdown",
   "metadata": {},
   "source": [
    "split(vis = '18B-229.sb35897152.eb36143922.58505.63336309028.ms', outputvis = 'SDSSJ1509+0759_split.ms', field = '2')\n",
    "\n",
    "tclean(vis = 'SDSSJ1509+0759_split.ms', imagename = 'SDSSJ1509+0759_split.ms.imsize1280.thresh31uJy', imsize = [1280], threshold = '0.31mJy', niter = 10000)\n",
    "\n",
    "Rms = 6.1uJy\n",
    "\n",
    "Dirty Rms = 8.5uJy"
   ]
  },
  {
   "cell_type": "markdown",
   "metadata": {},
   "source": [
    "## J2131+1047"
   ]
  },
  {
   "cell_type": "markdown",
   "metadata": {},
   "source": [
    "![](../Images/SDSSJ2131+1047.png)"
   ]
  },
  {
   "cell_type": "markdown",
   "metadata": {},
   "source": [
    "split(vis = '18B-229.sb35865385.eb36095920.58490.02454413194.ms', outputvis = 'SDSSJ2131+1047_split.ms', field = '2')\n",
    "\n",
    "tclean(vis = 'SDSSJ2131+1047_split.ms', imagename = 'SDSSJ2131+1047_split.ms.imsz640.thresh13p5uJy', imsize = [640], niter = 10000, threshold = '0.135mJy')\n",
    "\n",
    "Rms = 4.2\n",
    "\n",
    "Dirty Rms = 8.8"
   ]
  },
  {
   "cell_type": "markdown",
   "metadata": {},
   "source": [
    "## J2158+0027"
   ]
  },
  {
   "cell_type": "markdown",
   "metadata": {},
   "source": [
    "![](../Images/SDSSJ2158+0028.png)\n",
    "![](../Images/SDSSJ2158+0027_zoomed.png)"
   ]
  },
  {
   "cell_type": "markdown",
   "metadata": {},
   "source": [
    "This image appears to be another non-detection.  It was blown up to investigate whether or not the radio source on the right was accompanied by another somewhere on the left and the object could possibly be a double-lobed radio source, but this was not found to be the case.\n",
    "\n",
    "split(vis = '18B-229.sb35864824.eb35992430.58463.07334407407.ms',\n",
    "outputvis = 'SDSSJ2158+0027_split.ms', field = '1')\n",
    "\n",
    "tclean(vis = 'SDSSJ2158+0027_split.ms', imagename = 'SDSSJ2158+0027_split.ms.imsize640.niter10K.thresh.225mJy', imsize = [640], niter = 10000, threshold = '0.225mJy')\n",
    "\n",
    "Rms = 4.6\n",
    "\n",
    "Dirty Rms = 7.65"
   ]
  },
  {
   "cell_type": "markdown",
   "metadata": {},
   "source": [
    "## J2346-0029"
   ]
  },
  {
   "cell_type": "markdown",
   "metadata": {},
   "source": [
    "![](../Images/SDSSJ2346-0029.png)"
   ]
  },
  {
   "cell_type": "markdown",
   "metadata": {},
   "source": [
    "split(vis = '18B-229.sb35978226.eb36039349.58470.10486790509.ms', outputvis = 'SDSSJ2346-0029_split.ms', field = '2')\n",
    "\n",
    "flagdata(vis = 'SDSSJ2346-0029_split.ms', spw = '>28')\n",
    "\n",
    "tclean(vis = 'SDSSJ2346-0029_split.ms', imagename = 'SDSSJ2346-0029_split.ms.imsize640.niter10K.thresh15uJy', imsize = [640], threshold = '0.15mJy', niter = 10000)\n",
    "\n",
    "Dirty Rms = 8uJy\n",
    "\n",
    "Clean Rms = 2uJy (fast drop-off)"
   ]
  },
  {
   "cell_type": "markdown",
   "metadata": {},
   "source": [
    "-------\n",
    "\n",
    "I feel like I now have a much better grasp on some of the theory behind what we are doing.  Going forward, I see the value in SkyView to be able to distinguish whether or not our object is the source of any radio emission seen throughout the images.  I will continue to use this to aid me in deciding whether or not we have detected a radio source from our objects.\n",
    "\n",
    "Gaining comfort with CASA and (re-)running the pipeline will also allow me to work faster and more efficiently and gain data from a larger amount of observations."
   ]
  }
 ],
 "metadata": {
  "kernelspec": {
   "display_name": "Python 3",
   "language": "python",
   "name": "python3"
  },
  "language_info": {
   "codemirror_mode": {
    "name": "ipython",
    "version": 3
   },
   "file_extension": ".py",
   "mimetype": "text/x-python",
   "name": "python",
   "nbconvert_exporter": "python",
   "pygments_lexer": "ipython3",
   "version": "3.6.4"
  }
 },
 "nbformat": 4,
 "nbformat_minor": 2
}
